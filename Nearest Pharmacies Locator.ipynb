{
 "cells": [
  {
   "cell_type": "code",
   "execution_count": 1,
   "outputs": [
    {
     "name": "stdout",
     "output_type": "stream",
     "text": [
      "Connexion réussie\n"
     ]
    }
   ],
   "source": [
    "from neo4j import GraphDatabase\n",
    "import osmnx as ox\n",
    "import folium\n",
    "import warnings\n",
    "warnings.filterwarnings(\"ignore\")\n",
    "\n",
    "\n",
    "# Connexion à la base de données Neo4j\n",
    "uri = \"bolt://localhost:7687\"\n",
    "driver = GraphDatabase.driver(uri, auth=(\"neo4j\", \"12345678\"))\n",
    "start_point = (34.047608901290324, -4.959777988230495)\n",
    "\n",
    "# Test de connexion\n",
    "with driver.session() as session:\n",
    "    result = session.run(\"RETURN 1\")\n",
    "    print(\"Connexion réussie\" if result.single()[0] == 1 else \"Connexion échouée\")\n"
   ],
   "metadata": {
    "collapsed": false,
    "ExecuteTime": {
     "end_time": "2024-05-29T10:07:03.613874100Z",
     "start_time": "2024-05-29T10:06:48.178830300Z"
    }
   },
   "id": "dc12da60c4c208f9"
  },
  {
   "cell_type": "code",
   "execution_count": null,
   "outputs": [],
   "source": [
    "from geopy.geocoders import Nominatim\n",
    "\n",
    "def get_coordinates(location_name):\n",
    "    geolocator = Nominatim(user_agent=\"geoapiExercises\")\n",
    "    location = geolocator.geocode(location_name)\n",
    "    if location:\n",
    "        return location.latitude, location.longitude\n",
    "    else:\n",
    "        print(\"Impossible de trouver les coordonnées pour cet emplacement.\")\n",
    "        return None, None\n",
    "\n",
    "\n",
    "# Utilisation de la fonction pour obtenir les coordonnées\n",
    "latitude, longitude = get_coordinates(\"Fes\")\n",
    "if latitude is not None and longitude is not None:\n",
    "    print(\"Latitude:\", latitude)\n",
    "    print(\"Longitude:\", longitude)"
   ],
   "metadata": {
    "collapsed": false
   },
   "id": "397a75890c30e39a"
  },
  {
   "cell_type": "code",
   "execution_count": 4,
   "outputs": [
    {
     "name": "stdout",
     "output_type": "stream",
     "text": [
      "Données importées avec succès dans Neo4j\n"
     ]
    }
   ],
   "source": [
    "def import_data_to_neo4j(driver, start_point, distance=1000):\n",
    "    # Récupération des pharmacies\n",
    "    pharmacies = ox.geometries_from_point(start_point, tags={'amenity': 'pharmacy'}, dist=distance)\n",
    "    # Récupération du réseau routier\n",
    "    G = ox.graph_from_point(start_point, dist=distance, network_type='drive')\n",
    "\n",
    "    def create_pharmacy_node(tx, id, name, lat, lon):\n",
    "        query = (\n",
    "            \"CREATE (p:Pharmacy {id: $id, name: $name, latitude: $lat, longitude: $lon})\"\n",
    "        )\n",
    "        tx.run(query, id=id[1], name=name, lat=lat, lon=lon)\n",
    "\n",
    "    def create_road_node(tx, osmid, lat, lon):\n",
    "        query = (\n",
    "            \"CREATE (r:Road {osmid: $osmid, latitude: $lat, longitude: $lon})\"\n",
    "        )\n",
    "        tx.run(query, osmid=osmid, lat=lat, lon=lon)\n",
    "\n",
    "    def create_road_relationship(tx, from_osmid, to_osmid, length):\n",
    "        query = (\n",
    "            \"MATCH (r1:Road {osmid: $from_osmid}), (r2:Road {osmid: $to_osmid}) \"\n",
    "            \"CREATE (r1)-[:CONNECTED {length: $length}]->(r2)\"\n",
    "        )\n",
    "        tx.run(query, from_osmid=from_osmid, to_osmid=to_osmid, length=length)\n",
    "\n",
    "    with driver.session() as session:\n",
    "        # Clear existing data\n",
    "        session.run(\"MATCH (n) DETACH DELETE n\")\n",
    "\n",
    "        # Import pharmacies\n",
    "        for idx, row in pharmacies.iterrows():\n",
    "            session.execute_write(create_pharmacy_node, idx, row['name'], row.geometry.y, row.geometry.x)\n",
    "\n",
    "        # Import road network nodes\n",
    "        for node, data in G.nodes(data=True):\n",
    "            session.execute_write(create_road_node, node, data['y'], data['x'])\n",
    "\n",
    "        # Import road network edges\n",
    "        for u, v, data in G.edges(data=True):\n",
    "            session.execute_write(create_road_relationship, u, v, data['length'])\n",
    "\n",
    "# Test de la fonction d'importation\n",
    "import_data_to_neo4j(driver, start_point)\n",
    "print(\"Données importées avec succès dans Neo4j\")"
   ],
   "metadata": {
    "collapsed": false,
    "ExecuteTime": {
     "end_time": "2024-05-29T10:10:26.873517100Z",
     "start_time": "2024-05-29T10:08:06.144107500Z"
    }
   },
   "id": "11128a397fb86800"
  },
  {
   "cell_type": "code",
   "execution_count": 5,
   "outputs": [
    {
     "name": "stdout",
     "output_type": "stream",
     "text": [
      "La pharmacie la plus proche est : Pharmacie Al Hanae صيدلية الهناء à 156.41452209294732 mètres\n"
     ]
    }
   ],
   "source": [
    "def find_nearest_pharmacy(driver, start_point):\n",
    "    query = (\n",
    "        \"MATCH (p:Pharmacy) \"\n",
    "        \"RETURN p.id AS id, p.name AS name, p.latitude AS lat, p.longitude AS lon, \"\n",
    "        \"point.distance(point({latitude: $lat, longitude: $lon}), point({latitude: p.latitude, longitude: p.longitude})) AS distance \"\n",
    "        \"ORDER BY distance ASC LIMIT 1\"\n",
    "    )\n",
    "\n",
    "    with driver.session() as session:\n",
    "        result = session.run(query, lat=start_point[0], lon=start_point[1])\n",
    "        return result.single()\n",
    "\n",
    "# Test de la fonction de recherche de la pharmacie la plus proche\n",
    "nearest_pharmacy = find_nearest_pharmacy(driver, start_point)\n",
    "print(f\"La pharmacie la plus proche est : {nearest_pharmacy['name']} à {nearest_pharmacy['distance']} mètres\")\n"
   ],
   "metadata": {
    "collapsed": false,
    "ExecuteTime": {
     "end_time": "2024-05-29T10:10:30.755399800Z",
     "start_time": "2024-05-29T10:10:30.128046900Z"
    }
   },
   "id": "3b1499322b250bae"
  },
  {
   "cell_type": "code",
   "execution_count": 6,
   "outputs": [
    {
     "data": {
      "text/plain": "<folium.folium.Map at 0x1f8592500d0>",
      "text/html": "<div style=\"width:100%;\"><div style=\"position:relative;width:100%;height:0;padding-bottom:60%;\"><span style=\"color:#565656\">Make this Notebook Trusted to load map: File -> Trust Notebook</span><iframe srcdoc=\"&lt;!DOCTYPE html&gt;\n&lt;html&gt;\n&lt;head&gt;\n    \n    &lt;meta http-equiv=&quot;content-type&quot; content=&quot;text/html; charset=UTF-8&quot; /&gt;\n    \n        &lt;script&gt;\n            L_NO_TOUCH = false;\n            L_DISABLE_3D = false;\n        &lt;/script&gt;\n    \n    &lt;style&gt;html, body {width: 100%;height: 100%;margin: 0;padding: 0;}&lt;/style&gt;\n    &lt;style&gt;#map {position:absolute;top:0;bottom:0;right:0;left:0;}&lt;/style&gt;\n    &lt;script src=&quot;https://cdn.jsdelivr.net/npm/leaflet@1.9.3/dist/leaflet.js&quot;&gt;&lt;/script&gt;\n    &lt;script src=&quot;https://code.jquery.com/jquery-3.7.1.min.js&quot;&gt;&lt;/script&gt;\n    &lt;script src=&quot;https://cdn.jsdelivr.net/npm/bootstrap@5.2.2/dist/js/bootstrap.bundle.min.js&quot;&gt;&lt;/script&gt;\n    &lt;script src=&quot;https://cdnjs.cloudflare.com/ajax/libs/Leaflet.awesome-markers/2.0.2/leaflet.awesome-markers.js&quot;&gt;&lt;/script&gt;\n    &lt;link rel=&quot;stylesheet&quot; href=&quot;https://cdn.jsdelivr.net/npm/leaflet@1.9.3/dist/leaflet.css&quot;/&gt;\n    &lt;link rel=&quot;stylesheet&quot; href=&quot;https://cdn.jsdelivr.net/npm/bootstrap@5.2.2/dist/css/bootstrap.min.css&quot;/&gt;\n    &lt;link rel=&quot;stylesheet&quot; href=&quot;https://netdna.bootstrapcdn.com/bootstrap/3.0.0/css/bootstrap.min.css&quot;/&gt;\n    &lt;link rel=&quot;stylesheet&quot; href=&quot;https://cdn.jsdelivr.net/npm/@fortawesome/fontawesome-free@6.2.0/css/all.min.css&quot;/&gt;\n    &lt;link rel=&quot;stylesheet&quot; href=&quot;https://cdnjs.cloudflare.com/ajax/libs/Leaflet.awesome-markers/2.0.2/leaflet.awesome-markers.css&quot;/&gt;\n    &lt;link rel=&quot;stylesheet&quot; href=&quot;https://cdn.jsdelivr.net/gh/python-visualization/folium/folium/templates/leaflet.awesome.rotate.min.css&quot;/&gt;\n    \n            &lt;meta name=&quot;viewport&quot; content=&quot;width=device-width,\n                initial-scale=1.0, maximum-scale=1.0, user-scalable=no&quot; /&gt;\n            &lt;style&gt;\n                #map_9038eb2668a387a69b5940d414e2a5c8 {\n                    position: relative;\n                    width: 100.0%;\n                    height: 100.0%;\n                    left: 0.0%;\n                    top: 0.0%;\n                }\n                .leaflet-container { font-size: 1rem; }\n            &lt;/style&gt;\n        \n&lt;/head&gt;\n&lt;body&gt;\n    \n    \n            &lt;div class=&quot;folium-map&quot; id=&quot;map_9038eb2668a387a69b5940d414e2a5c8&quot; &gt;&lt;/div&gt;\n        \n&lt;/body&gt;\n&lt;script&gt;\n    \n    \n            var map_9038eb2668a387a69b5940d414e2a5c8 = L.map(\n                &quot;map_9038eb2668a387a69b5940d414e2a5c8&quot;,\n                {\n                    center: [34.047608901290324, -4.959777988230495],\n                    crs: L.CRS.EPSG3857,\n                    zoom: 14,\n                    zoomControl: true,\n                    preferCanvas: false,\n                }\n            );\n\n            \n\n        \n    \n            var tile_layer_b606b0a1b3abd4d2ad1d5ae8de04e0a6 = L.tileLayer(\n                &quot;https://tile.openstreetmap.org/{z}/{x}/{y}.png&quot;,\n                {&quot;attribution&quot;: &quot;\\u0026copy; \\u003ca href=\\&quot;https://www.openstreetmap.org/copyright\\&quot;\\u003eOpenStreetMap\\u003c/a\\u003e contributors&quot;, &quot;detectRetina&quot;: false, &quot;maxNativeZoom&quot;: 19, &quot;maxZoom&quot;: 19, &quot;minZoom&quot;: 0, &quot;noWrap&quot;: false, &quot;opacity&quot;: 1, &quot;subdomains&quot;: &quot;abc&quot;, &quot;tms&quot;: false}\n            );\n        \n    \n            tile_layer_b606b0a1b3abd4d2ad1d5ae8de04e0a6.addTo(map_9038eb2668a387a69b5940d414e2a5c8);\n        \n    \n            var marker_1521ae3eb3c7738ff56bd6f8639be937 = L.marker(\n                [34.047608901290324, -4.959777988230495],\n                {}\n            ).addTo(map_9038eb2668a387a69b5940d414e2a5c8);\n        \n    \n            var icon_3006777eaaa15d46f27804e96af86179 = L.AwesomeMarkers.icon(\n                {&quot;extraClasses&quot;: &quot;fa-rotate-0&quot;, &quot;icon&quot;: &quot;home&quot;, &quot;iconColor&quot;: &quot;white&quot;, &quot;markerColor&quot;: &quot;green&quot;, &quot;prefix&quot;: &quot;glyphicon&quot;}\n            );\n            marker_1521ae3eb3c7738ff56bd6f8639be937.setIcon(icon_3006777eaaa15d46f27804e96af86179);\n        \n    \n        var popup_768ac4af97a01ca265e0ab96573e9649 = L.popup({&quot;maxWidth&quot;: &quot;100%&quot;});\n\n        \n            \n                var html_e338e5cc4f0e965e85df0ef3a054f8a4 = $(`&lt;div id=&quot;html_e338e5cc4f0e965e85df0ef3a054f8a4&quot; style=&quot;width: 100.0%; height: 100.0%;&quot;&gt;Start Point&lt;/div&gt;`)[0];\n                popup_768ac4af97a01ca265e0ab96573e9649.setContent(html_e338e5cc4f0e965e85df0ef3a054f8a4);\n            \n        \n\n        marker_1521ae3eb3c7738ff56bd6f8639be937.bindPopup(popup_768ac4af97a01ca265e0ab96573e9649)\n        ;\n\n        \n    \n    \n            var marker_82c0136a1294b7bf91d71ec53dbe40e2 = L.marker(\n                [34.0488103, -4.9606574],\n                {}\n            ).addTo(map_9038eb2668a387a69b5940d414e2a5c8);\n        \n    \n            var icon_d0e2ad259a9a843b2240da13d5a7c35d = L.AwesomeMarkers.icon(\n                {&quot;extraClasses&quot;: &quot;fa-rotate-0&quot;, &quot;icon&quot;: &quot;flag&quot;, &quot;iconColor&quot;: &quot;white&quot;, &quot;markerColor&quot;: &quot;red&quot;, &quot;prefix&quot;: &quot;glyphicon&quot;}\n            );\n            marker_82c0136a1294b7bf91d71ec53dbe40e2.setIcon(icon_d0e2ad259a9a843b2240da13d5a7c35d);\n        \n    \n        var popup_c197b3b86da62ad9935e120da95c3350 = L.popup({&quot;maxWidth&quot;: &quot;100%&quot;});\n\n        \n            \n                var html_54545b03aa471ead5edbd66676a6da8e = $(`&lt;div id=&quot;html_54545b03aa471ead5edbd66676a6da8e&quot; style=&quot;width: 100.0%; height: 100.0%;&quot;&gt;Pharmacie Al Hanae صيدلية الهناء&lt;/div&gt;`)[0];\n                popup_c197b3b86da62ad9935e120da95c3350.setContent(html_54545b03aa471ead5edbd66676a6da8e);\n            \n        \n\n        marker_82c0136a1294b7bf91d71ec53dbe40e2.bindPopup(popup_c197b3b86da62ad9935e120da95c3350)\n        ;\n\n        \n    \n&lt;/script&gt;\n&lt;/html&gt;\" style=\"position:absolute;width:100%;height:100%;left:0;top:0;border:none !important;\" allowfullscreen webkitallowfullscreen mozallowfullscreen></iframe></div></div>"
     },
     "execution_count": 6,
     "metadata": {},
     "output_type": "execute_result"
    }
   ],
   "source": [
    "def create_map(start_point, pharmacy):\n",
    "    m = folium.Map(location=start_point, zoom_start=14)\n",
    "\n",
    "    # Add start point marker\n",
    "    folium.Marker(\n",
    "        location=start_point,\n",
    "        popup=\"Start Point\",\n",
    "        icon=folium.Icon(color='green', icon='home'),\n",
    "    ).add_to(m)\n",
    "\n",
    "    # Add pharmacy marker\n",
    "    folium.Marker(\n",
    "        location=(pharmacy['lat'], pharmacy['lon']),\n",
    "        popup=pharmacy['name'],\n",
    "        icon=folium.Icon(color='red', icon='flag')\n",
    "    ).add_to(m)\n",
    "\n",
    "    return m\n",
    "\n",
    "# Test de la fonction de création de carte\n",
    "if nearest_pharmacy:\n",
    "    m = create_map(start_point, nearest_pharmacy)\n",
    "m"
   ],
   "metadata": {
    "collapsed": false,
    "ExecuteTime": {
     "end_time": "2024-05-29T10:10:34.703084600Z",
     "start_time": "2024-05-29T10:10:34.647675800Z"
    }
   },
   "id": "922e423cc642b0cb"
  },
  {
   "cell_type": "code",
   "execution_count": null,
   "outputs": [],
   "source": [
    "def find_shortest_path(driver, start_point, nearest_pharmacy):\n",
    "    start_node_query = (\n",
    "        \"MATCH (r:Road) \"\n",
    "        \"RETURN r.osmid AS osmid, \"\n",
    "        \"point.distance(point({latitude: $lat, longitude: $lon}), point({latitude: r.latitude, longitude: r.longitude})) AS distance \"\n",
    "        \"ORDER BY distance ASC LIMIT 1\"\n",
    "    )\n",
    "    \n",
    "    with driver.session() as session:\n",
    "        start_node_result = session.run(start_node_query, lat=start_point[0], lon=start_point[1])\n",
    "        start_node = start_node_result.single()[\"osmid\"]\n",
    "        \n",
    "        end_node_query = (\n",
    "            \"MATCH (r:Road) \"\n",
    "            \"RETURN r.osmid AS osmid, \"\n",
    "            \"point.distance(point({latitude: $lat, longitude: $lon}), point({latitude: r.latitude, longitude: r.longitude})) AS distance \"\n",
    "            \"ORDER BY distance ASC LIMIT 1\"\n",
    "        )\n",
    "        \n",
    "        end_node_result = session.run(end_node_query, lat=nearest_pharmacy['lat'], lon=nearest_pharmacy['lon'])\n",
    "        end_node = end_node_result.single()[\"osmid\"]\n",
    "\n",
    "        path_query = (\n",
    "            \"MATCH (start:Road {osmid: $start_osmid}), (end:Road {osmid: $end_osmid}), \"\n",
    "            \"p = shortestPath((start)-[:CONNECTED*]-(end)) \"\n",
    "            \"RETURN p\"\n",
    "        )\n",
    "        \n",
    "        path_result = session.run(path_query, start_osmid=start_node, end_osmid=end_node)\n",
    "        path = path_result.single()[\"p\"]\n",
    "        return path\n",
    "\n",
    "# Test de la fonction de recherche du chemin le plus court\n",
    "if nearest_pharmacy:\n",
    "    shortest_path = find_shortest_path(driver, start_point, nearest_pharmacy)\n",
    "    print(\"Chemin le plus court trouvé\")\n",
    "\n",
    "def create_map(start_point, pharmacy, path, driver):\n",
    "    m = folium.Map(location=start_point, zoom_start=14)\n",
    "\n",
    "    # Add start point marker\n",
    "    folium.Marker(\n",
    "        location=start_point,\n",
    "        popup=\"Start Point\",\n",
    "        icon=folium.Icon(color='green', icon='home'),\n",
    "    ).add_to(m)\n",
    "\n",
    "    # Add pharmacy marker\n",
    "    folium.Marker(\n",
    "        location=(pharmacy['lat'], pharmacy['lon']),\n",
    "        popup=pharmacy['name'],\n",
    "        icon=folium.Icon(color='red', icon='flag')\n",
    "    ).add_to(m)\n",
    "\n",
    "    # Add path to map\n",
    "    latlons = []\n",
    "    for segment in path.relationships:\n",
    "        query = (\n",
    "            \"MATCH (r1:Road)-[rel:CONNECTED]->(r2:Road) \"\n",
    "            \"WHERE ID(rel) = $rel_id \"\n",
    "            \"RETURN r1.latitude AS lat1, r1.longitude AS lon1, r2.latitude AS lat2, r2.longitude AS lon2\"\n",
    "        )\n",
    "        result = driver.session().run(query, rel_id=segment.id)\n",
    "        segment_data = result.single()\n",
    "        latlons.append((segment_data[\"lat1\"], segment_data[\"lon1\"]))\n",
    "        latlons.append((segment_data[\"lat2\"], segment_data[\"lon2\"]))\n",
    "\n",
    "    folium.PolyLine(latlons, color=\"blue\", weight=2.5, opacity=1).add_to(m)\n",
    "    \n",
    "    return m\n",
    "\n",
    "# Test de la fonction de création de carte\n",
    "if nearest_pharmacy and shortest_path:\n",
    "    m = create_map(start_point, nearest_pharmacy, shortest_path, driver)\n",
    "m"
   ],
   "metadata": {
    "collapsed": false
   },
   "id": "72ed17b9a0dd3fcd"
  },
  {
   "cell_type": "code",
   "execution_count": null,
   "outputs": [],
   "source": [],
   "metadata": {
    "collapsed": false
   },
   "id": "41ad14a7dcb98ab4"
  }
 ],
 "metadata": {
  "kernelspec": {
   "display_name": "Python 3",
   "language": "python",
   "name": "python3"
  },
  "language_info": {
   "codemirror_mode": {
    "name": "ipython",
    "version": 2
   },
   "file_extension": ".py",
   "mimetype": "text/x-python",
   "name": "python",
   "nbconvert_exporter": "python",
   "pygments_lexer": "ipython2",
   "version": "2.7.6"
  }
 },
 "nbformat": 4,
 "nbformat_minor": 5
}
